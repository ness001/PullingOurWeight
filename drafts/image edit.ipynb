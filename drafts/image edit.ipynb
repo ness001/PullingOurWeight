{
 "cells": [
  {
   "cell_type": "code",
   "execution_count": 1,
   "metadata": {
    "ExecuteTime": {
     "end_time": "2019-08-13T05:32:47.610785Z",
     "start_time": "2019-08-13T05:32:47.559889Z"
    }
   },
   "outputs": [],
   "source": [
    "from PIL import Image,ImageDraw,ImageFont"
   ]
  },
  {
   "cell_type": "code",
   "execution_count": 2,
   "metadata": {
    "ExecuteTime": {
     "end_time": "2019-08-13T05:32:47.957207Z",
     "start_time": "2019-08-13T05:32:47.612910Z"
    }
   },
   "outputs": [],
   "source": [
    "    background = Image.open(r\"/Users/ness001/Library/Mobile Documents/com~apple~CloudDocs/intern/PullingOurWeight /reference/image001.png\")\n",
    "portrait = Image.open('/Users/ness001/Library/Mobile Documents/com~apple~CloudDocs/梁力个人信息/证件头像/梁力证件照.JPG')\n",
    "\n",
    "draw = ImageDraw.Draw(background)\n",
    "myfont = ImageFont.truetype(u\"/System/Library/Fonts/STHeiti Medium.ttc\", size=20) #font type need to be double-checked\n",
    "fillcolor = 'black'\n",
    "text=u\"梁力\" # name length should take into consideration\n",
    "\n",
    "# location of text\n",
    "w,h=draw.textsize(text, font=myfont)\n",
    "bounding_box = [248, 370, 374, 396] #upper left corner, lowwr right corner \n",
    "x1, y1, x2, y2 = bounding_box \n",
    "x = (x2 - x1 - w)/2 + x1\n",
    "y = (y2 - y1 - h)/2 + y1\n",
    "\n",
    "#add text\n",
    "draw.text((x, y), text, align='center', font=myfont,fill='black')\n",
    "\n",
    "#location of portrait\n",
    "box=(474,279,573,406)#different image size should take into consideration\n",
    "portrait=portrait.resize((box[2] - box[0], box[3] - box[1]))\n",
    "\n",
    "#add portrait\n",
    "background.paste(portrait,box)\n",
    "\n",
    "background.show()\n",
    "background.save('edited.png')"
   ]
  },
  {
   "cell_type": "code",
   "execution_count": 7,
   "metadata": {
    "ExecuteTime": {
     "end_time": "2019-08-13T05:53:20.889664Z",
     "start_time": "2019-08-13T05:53:20.856334Z"
    }
   },
   "outputs": [],
   "source": [
    "from io import StringIO"
   ]
  },
  {
   "cell_type": "code",
   "execution_count": 8,
   "metadata": {
    "ExecuteTime": {
     "end_time": "2019-08-13T05:53:21.294759Z",
     "start_time": "2019-08-13T05:53:21.250963Z"
    }
   },
   "outputs": [],
   "source": [
    "def serve_pil_image(pil_img):\n",
    "    img_io = StringIO()\n",
    "    pil_img.save(img_io, 'JPEG', quality=70)\n",
    "    img_io.seek(0)\n",
    "    return send_file(img_io, mimetype='image/jpeg')"
   ]
  },
  {
   "cell_type": "code",
   "execution_count": null,
   "metadata": {},
   "outputs": [],
   "source": []
  }
 ],
 "metadata": {
  "hide_input": false,
  "kernelspec": {
   "display_name": "Python 3",
   "language": "python",
   "name": "python3"
  },
  "language_info": {
   "codemirror_mode": {
    "name": "ipython",
    "version": 3
   },
   "file_extension": ".py",
   "mimetype": "text/x-python",
   "name": "python",
   "nbconvert_exporter": "python",
   "pygments_lexer": "ipython3",
   "version": "3.7.3"
  },
  "toc": {
   "base_numbering": 1,
   "nav_menu": {},
   "number_sections": true,
   "sideBar": true,
   "skip_h1_title": false,
   "title_cell": "Table of Contents",
   "title_sidebar": "Contents",
   "toc_cell": false,
   "toc_position": {},
   "toc_section_display": true,
   "toc_window_display": false
  },
  "varInspector": {
   "cols": {
    "lenName": 16,
    "lenType": 16,
    "lenVar": 40
   },
   "kernels_config": {
    "python": {
     "delete_cmd_postfix": "",
     "delete_cmd_prefix": "del ",
     "library": "var_list.py",
     "varRefreshCmd": "print(var_dic_list())"
    },
    "r": {
     "delete_cmd_postfix": ") ",
     "delete_cmd_prefix": "rm(",
     "library": "var_list.r",
     "varRefreshCmd": "cat(var_dic_list()) "
    }
   },
   "position": {
    "height": "415px",
    "left": "1101px",
    "right": "20px",
    "top": "120px",
    "width": "319px"
   },
   "types_to_exclude": [
    "module",
    "function",
    "builtin_function_or_method",
    "instance",
    "_Feature"
   ],
   "window_display": false
  }
 },
 "nbformat": 4,
 "nbformat_minor": 2
}
